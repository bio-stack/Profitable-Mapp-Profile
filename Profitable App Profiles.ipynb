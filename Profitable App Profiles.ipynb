{
 "cells": [
  {
   "cell_type": "markdown",
   "metadata": {},
   "source": [
    "# Profitable App Profiles\n",
    "\n",
    "The aim of this analysis is to determine what goes into a successful app.  By looking a data associated with free apps, the ultimate goal is to understand which types of apps will attract the most users.  The profile will be based on free apps as well as apps for english language users only."
   ]
  },
  {
   "cell_type": "markdown",
   "metadata": {},
   "source": [
    "Here we import the necessary modules and open both the googleplay and applestore files in list formats:"
   ]
  },
  {
   "cell_type": "code",
   "execution_count": 64,
   "metadata": {},
   "outputs": [],
   "source": [
    "from csv import reader\n",
    "opened_file = open('googleplaystore.csv', encoding ='utf8')\n",
    "read_file = reader(opened_file)\n",
    "googleplay_list = list(read_file)\n",
    "\n",
    "opened_file2 = open('AppleStore.csv', encoding ='utf8')\n",
    "read_file2 = reader(opened_file2)\n",
    "apple_list = list(read_file2)\n",
    "\n"
   ]
  },
  {
   "cell_type": "markdown",
   "metadata": {},
   "source": [
    "This is a quick function that will allow for the viewing of both datasets in a meaningful format:"
   ]
  },
  {
   "cell_type": "code",
   "execution_count": 103,
   "metadata": {},
   "outputs": [],
   "source": [
    "def explore_data(dataset, start, end, rows_and_columns=False):\n",
    "    dataset_slice = dataset[start:end]    \n",
    "    for row in dataset_slice:\n",
    "        print(row)\n",
    "        print('\\n') # adds a new (empty) line after each row\n",
    "\n",
    "    if rows_and_columns:\n",
    "        print('Number of rows:', len(dataset))\n",
    "        print('Number of columns:', len(dataset[0]))"
   ]
  },
  {
   "cell_type": "markdown",
   "metadata": {},
   "source": [
    "Here is some sample data:"
   ]
  },
  {
   "cell_type": "code",
   "execution_count": 104,
   "metadata": {},
   "outputs": [
    {
     "name": "stdout",
     "output_type": "stream",
     "text": [
      "['App', 'Category', 'Rating', 'Reviews', 'Size', 'Installs', 'Type', 'Price', 'Content Rating', 'Genres', 'Last Updated', 'Current Ver', 'Android Ver']\n",
      "\n",
      "\n",
      "['Photo Editor & Candy Camera & Grid & ScrapBook', 'ART_AND_DESIGN', '4.1', '159', '19M', '10,000+', 'Free', '0', 'Everyone', 'Art & Design', 'January 7, 2018', '1.0.0', '4.0.3 and up']\n",
      "\n",
      "\n",
      "['Coloring book moana', 'ART_AND_DESIGN', '3.9', '967', '14M', '500,000+', 'Free', '0', 'Everyone', 'Art & Design;Pretend Play', 'January 15, 2018', '2.0.0', '4.0.3 and up']\n",
      "\n",
      "\n",
      "['U Launcher Lite – FREE Live Cool Themes, Hide Apps', 'ART_AND_DESIGN', '4.7', '87510', '8.7M', '5,000,000+', 'Free', '0', 'Everyone', 'Art & Design', 'August 1, 2018', '1.2.4', '4.0.3 and up']\n",
      "\n",
      "\n",
      "['Sketch - Draw & Paint', 'ART_AND_DESIGN', '4.5', '215644', '25M', '50,000,000+', 'Free', '0', 'Teen', 'Art & Design', 'June 8, 2018', 'Varies with device', '4.2 and up']\n",
      "\n",
      "\n",
      "['', 'id', 'track_name', 'size_bytes', 'currency', 'price', 'rating_count_tot', 'rating_count_ver', 'user_rating', 'user_rating_ver', 'ver', 'cont_rating', 'prime_genre', 'sup_devices.num', 'ipadSc_urls.num', 'lang.num', 'vpp_lic']\n",
      "\n",
      "\n",
      "['1', '281656475', 'PAC-MAN Premium', '100788224', 'USD', '3.99', '21292', '26', '4', '4.5', '6.3.5', '4+', 'Games', '38', '5', '10', '1']\n",
      "\n",
      "\n",
      "['2', '281796108', 'Evernote - stay organized', '158578688', 'USD', '0', '161065', '26', '4', '3.5', '8.2.2', '4+', 'Productivity', '37', '5', '23', '1']\n",
      "\n",
      "\n",
      "['3', '281940292', 'WeatherBug - Local Weather, Radar, Maps, Alerts', '100524032', 'USD', '0', '188583', '2822', '3.5', '4.5', '5.0.0', '4+', 'Weather', '37', '5', '3', '1']\n",
      "\n",
      "\n",
      "['4', '282614216', 'eBay: Best App to Buy, Sell, Save! Online Shopping', '128512000', 'USD', '0', '262241', '649', '4', '4.5', '5.10.0', '12+', 'Shopping', '37', '5', '9', '1']\n",
      "\n",
      "\n"
     ]
    }
   ],
   "source": [
    "explore_data(googleplay_list, 0, 5)\n",
    "\n",
    "explore_data(apple_list, 0, 5)"
   ]
  },
  {
   "cell_type": "markdown",
   "metadata": {},
   "source": [
    "Here is some general info about each data set:"
   ]
  },
  {
   "cell_type": "code",
   "execution_count": 101,
   "metadata": {},
   "outputs": [
    {
     "name": "stdout",
     "output_type": "stream",
     "text": [
      "Google Play Stats:\n",
      "Number of columns: 13\n",
      "Number of rows: 10842\n",
      "\n",
      "\n",
      "Apple Store Stats:\n",
      "Number of columns: 17\n",
      "Number of rows: 7198\n"
     ]
    }
   ],
   "source": [
    "print('Google Play Stats:')\n",
    "print('Number of columns: ' + str(len(googleplay_list[0])))\n",
    "print('Number of rows: ' + str(len(googleplay_list)))\n",
    "print('\\n')\n",
    "print('Apple Store Stats:')\n",
    "print('Number of columns: ' + str(len(apple_list[0])))\n",
    "print('Number of rows: ' + str(len(apple_list)))\n",
    "\n",
    "\n"
   ]
  },
  {
   "cell_type": "markdown",
   "metadata": {},
   "source": [
    "In order to use both datasets effectively for the same purposes, the same categories or columns should be used.\n",
    "\n",
    "Therefore, it makes sense to look at reviews, genre, maybe size.\n",
    "\n",
    "More information about the columns and what they represent can be found [here](https://www.kaggle.com/ramamet4/app-store-apple-data-set-10k-apps).\n"
   ]
  },
  {
   "cell_type": "code",
   "execution_count": 114,
   "metadata": {},
   "outputs": [
    {
     "name": "stdout",
     "output_type": "stream",
     "text": [
      "['Life Made WI-Fi Touchscreen Photo Frame', '1.9', '19', '3.0M', '1,000+', 'Free', '0', 'Everyone', '', 'February 11, 2018', '1.0.19', '4.0 and up']\n"
     ]
    }
   ],
   "source": [
    "print(googleplay_list[10473])"
   ]
  },
  {
   "cell_type": "markdown",
   "metadata": {},
   "source": [
    "An error in the google play dataset was identified in the disscussion section of the data set found [here](https://www.kaggle.com/lava18/google-play-store-apps/discussion/66015). This app was deleted from the dataset for a more clean analysis."
   ]
  },
  {
   "cell_type": "code",
   "execution_count": 115,
   "metadata": {},
   "outputs": [],
   "source": [
    "del googleplay_list[10473]"
   ]
  },
  {
   "cell_type": "code",
   "execution_count": 117,
   "metadata": {},
   "outputs": [
    {
     "name": "stdout",
     "output_type": "stream",
     "text": [
      "['Jazz Wi-Fi', 'COMMUNICATION', '3.4', '49', '4.0M', '10,000+', 'Free', '0', 'Everyone', 'Communication', 'February 10, 2017', '0.1', '2.3 and up']\n",
      "\n",
      "\n",
      "['Xposed Wi-Fi-Pwd', 'PERSONALIZATION', '3.5', '1042', '404k', '100,000+', 'Free', '0', 'Everyone', 'Personalization', 'August 5, 2014', '3.0.0', '4.0.3 and up']\n",
      "\n",
      "\n",
      "['osmino Wi-Fi: free WiFi', 'TOOLS', '4.2', '134203', '4.1M', '10,000,000+', 'Free', '0', 'Everyone', 'Tools', 'August 7, 2018', '6.06.14', '4.4 and up']\n",
      "\n",
      "\n",
      "['Sat-Fi Voice', 'COMMUNICATION', '3.4', '37', '14M', '1,000+', 'Free', '0', 'Everyone', 'Communication', 'November 21, 2014', '2.2.1.5', '2.2 and up']\n",
      "\n",
      "\n"
     ]
    }
   ],
   "source": [
    "explore_data(googleplay_list, 10471, 10475)"
   ]
  },
  {
   "cell_type": "markdown",
   "metadata": {},
   "source": [
    "Also noted in the discussions are instances of duplicate app entries..."
   ]
  },
  {
   "cell_type": "code",
   "execution_count": 172,
   "metadata": {},
   "outputs": [
    {
     "name": "stdout",
     "output_type": "stream",
     "text": [
      "['Instagram', 'SOCIAL', '4.5', '66577313', 'Varies with device', '1,000,000,000+', 'Free', '0', 'Teen', 'Social', 'July 31, 2018', 'Varies with device', 'Varies with device']\n",
      "['Instagram', 'SOCIAL', '4.5', '66577446', 'Varies with device', '1,000,000,000+', 'Free', '0', 'Teen', 'Social', 'July 31, 2018', 'Varies with device', 'Varies with device']\n",
      "['Instagram', 'SOCIAL', '4.5', '66577313', 'Varies with device', '1,000,000,000+', 'Free', '0', 'Teen', 'Social', 'July 31, 2018', 'Varies with device', 'Varies with device']\n",
      "['Instagram', 'SOCIAL', '4.5', '66509917', 'Varies with device', '1,000,000,000+', 'Free', '0', 'Teen', 'Social', 'July 31, 2018', 'Varies with device', 'Varies with device']\n"
     ]
    }
   ],
   "source": [
    "for app in googleplay_list:\n",
    "    name = app[0]\n",
    "    if name == 'Instagram':\n",
    "        print(app)"
   ]
  },
  {
   "cell_type": "markdown",
   "metadata": {},
   "source": [
    "Duplicates do not seem to be a problem for the apple store data set:"
   ]
  },
  {
   "cell_type": "code",
   "execution_count": 171,
   "metadata": {},
   "outputs": [
    {
     "name": "stdout",
     "output_type": "stream",
     "text": [
      "['591', '389801252', 'Instagram', '113954816', 'USD', '0', '2161558', '1289', '4.5', '4', '10.23', '12+', 'Photo & Video', '37', '0', '29', '1']\n"
     ]
    }
   ],
   "source": [
    "for app in apple_list:\n",
    "    name = app[2]\n",
    "    if name == 'Instagram':\n",
    "        print(app)"
   ]
  },
  {
   "cell_type": "code",
   "execution_count": 126,
   "metadata": {},
   "outputs": [
    {
     "name": "stdout",
     "output_type": "stream",
     "text": [
      "Number of unique apps: 9659\n",
      "Number of duplicate apps: 1181\n",
      "\n",
      "\n",
      "['Quick PDF Scanner + OCR FREE', 'Box', 'Google My Business', 'ZOOM Cloud Meetings', 'join.me - Simple Meetings']\n"
     ]
    }
   ],
   "source": [
    "single_apps = []\n",
    "duplicate_apps = []\n",
    "\n",
    "for app in googleplay_list[1:]:\n",
    "    name = app[0]\n",
    "    if name in single_apps:\n",
    "        duplicate_apps.append(name)\n",
    "    else:\n",
    "        single_apps.append(name)\n",
    "        \n",
    "print('Number of unique apps: ' + str(len(single_apps)))\n",
    "print('Number of duplicate apps: ' + str(len(duplicate_apps)))\n",
    "print('\\n')\n",
    "print(duplicate_apps[0:5])"
   ]
  },
  {
   "cell_type": "markdown",
   "metadata": {},
   "source": [
    "When determining which duplicate app entry to keep the total reviews number column can be used as the most recent entry will have the most reviews (as seen with the Instagram example).\n",
    "\n",
    "Below we create a dictionary with the unique number of apps and key value pair is the highest number of reviews associated with that app:"
   ]
  },
  {
   "cell_type": "code",
   "execution_count": 132,
   "metadata": {},
   "outputs": [
    {
     "name": "stdout",
     "output_type": "stream",
     "text": [
      "Unique apps: 9659\n"
     ]
    }
   ],
   "source": [
    "reviews_max = {}\n",
    "\n",
    "for app in googleplay_list[1:]:\n",
    "    name = app[0]\n",
    "    n_reviews = float(app[3])\n",
    "    if name in reviews_max and reviews_max[name] < n_reviews:\n",
    "        reviews_max[name] = n_reviews\n",
    "    if name not in reviews_max:\n",
    "        reviews_max[name] = n_reviews\n",
    "\n",
    "print('Unique apps: ' + str(len(reviews_max)))\n"
   ]
  },
  {
   "cell_type": "markdown",
   "metadata": {},
   "source": [
    "Below we created a cleaned list of lists (cleaned_googleplay_list), containing only the most recent version of unique apps from the googleplay store.  \n",
    "\n",
    "We did this by looping through the original googleplay data set (not including the header row) and adding the app information to a new list based on two criteria:\n",
    "\n",
    "- only if it had the max number of reviews that we determined above in the dictionary max_reviews\n",
    "\n",
    "- also only if the name of the app was not already added (checked against_added list)\n"
   ]
  },
  {
   "cell_type": "code",
   "execution_count": 192,
   "metadata": {},
   "outputs": [
    {
     "name": "stdout",
     "output_type": "stream",
     "text": [
      "Number of apps in cleaned list: 9659\n",
      "\n",
      "\n",
      "[['Photo Editor & Candy Camera & Grid & ScrapBook', 'ART_AND_DESIGN', '4.1', '159', '19M', '10,000+', 'Free', '0', 'Everyone', 'Art & Design', 'January 7, 2018', '1.0.0', '4.0.3 and up'], ['U Launcher Lite – FREE Live Cool Themes, Hide Apps', 'ART_AND_DESIGN', '4.7', '87510', '8.7M', '5,000,000+', 'Free', '0', 'Everyone', 'Art & Design', 'August 1, 2018', '1.2.4', '4.0.3 and up']]\n",
      "\n",
      "\n",
      "['中国語 AQリスニング', 'FAMILY', 'NaN', '21', '17M', '5,000+', 'Free', '0', 'Everyone', 'Education', 'June 22, 2016', '2.4.0', '4.0 and up']\n"
     ]
    }
   ],
   "source": [
    "cleaned_googleplay_list = []\n",
    "already_added = []\n",
    "\n",
    "for app in googleplay_list[1:]:\n",
    "    name = app[0]\n",
    "    n_reviews = float(app[3])\n",
    "    \n",
    "    if n_reviews == reviews_max[name] and name not in already_added:\n",
    "        cleaned_googleplay_list.append(app)\n",
    "        already_added.append(name)\n",
    "    \n",
    "print('Number of apps in cleaned list: ' + str(len(cleaned_googleplay_list)))\n",
    "print('\\n')\n",
    "print(cleaned_googleplay_list[0:2])\n",
    "print('\\n')\n",
    "print(cleaned_googleplay_list[4412])\n"
   ]
  },
  {
   "cell_type": "markdown",
   "metadata": {},
   "source": [
    "Now we will look at removing any apps not in the english language.  To do this we will focus on identifying characters in a string based on their corresponding number behind the scenes. By using the built in **ord()** function.\n",
    "\n",
    "Example:"
   ]
  },
  {
   "cell_type": "code",
   "execution_count": 193,
   "metadata": {},
   "outputs": [
    {
     "name": "stdout",
     "output_type": "stream",
     "text": [
      "97\n",
      "65\n",
      "53\n",
      "43\n",
      "29233\n",
      "12531\n"
     ]
    }
   ],
   "source": [
    "print(ord('a'))\n",
    "print(ord('A'))\n",
    "print(ord('5'))\n",
    "print(ord('+'))\n",
    "print(ord('爱'))\n",
    "print(ord('ン'))\n"
   ]
  },
  {
   "cell_type": "markdown",
   "metadata": {},
   "source": [
    "According to the [ASCII](https://en.wikipedia.org/wiki/ASCII) (American Standard Code for Information Interchange) system, characters commonly used in the English language fall in range 0 to 127.\n",
    "\n",
    "Below we will make a simple function that takes in a string and returns a boolean value depending on whether or not the characters in the string are within the English range:"
   ]
  },
  {
   "cell_type": "code",
   "execution_count": 194,
   "metadata": {},
   "outputs": [
    {
     "name": "stdout",
     "output_type": "stream",
     "text": [
      "True\n",
      "False\n",
      "False\n",
      "False\n"
     ]
    }
   ],
   "source": [
    "def english_checker(app_name):\n",
    "    string = str(app_name)\n",
    "    for character in string:\n",
    "        if ord(character) > 127:\n",
    "            return False\n",
    "    else:\n",
    "        return True\n",
    "\n",
    "\n",
    "print(english_checker('Instagram'))\n",
    "print(english_checker('爱奇艺PPS -《欢乐颂2》电视剧热播'))\n",
    "print(english_checker('Docs To Go™ Free Office Suite'))\n",
    "print(english_checker('Instachat 😜'))\n",
    "    "
   ]
  },
  {
   "cell_type": "markdown",
   "metadata": {},
   "source": [
    "Unfortunately, this function isn't perfect becuase while it returns False for apps containing characters such as 爱 or 奇 it also returns false for emojis 😜 and characters such as ™.\n",
    "\n",
    "To address this the function will instead allow for up to 3 characters outside the 127 character range to build in some flexability (I used the 3 strikes analogy here).  The function isn't perfect and will cause the loss of some data in instances where the app names litter with emojis."
   ]
  },
  {
   "cell_type": "code",
   "execution_count": 195,
   "metadata": {},
   "outputs": [
    {
     "name": "stdout",
     "output_type": "stream",
     "text": [
      "True\n",
      "True\n",
      "False\n"
     ]
    }
   ],
   "source": [
    "def english_checker2(string):\n",
    "   \n",
    "    strikes = 0\n",
    "    for character in string:\n",
    "        if ord(character) > 127:\n",
    "            strikes += 1\n",
    "            \n",
    "    if strikes > 3:\n",
    "            return False\n",
    "    else:\n",
    "        return True\n",
    "    \n",
    "print(english_checker2('Docs To Go™ Free Office Suite'))\n",
    "print(english_checker2('Instachat 😜'))\n",
    "print(english_checker2('爱奇艺PPS -《欢乐颂2》电视剧热播'))"
   ]
  },
  {
   "cell_type": "markdown",
   "metadata": {},
   "source": [
    "Now this function will be used to create English only lists from the original apple dataset and cleaned google dataset:"
   ]
  },
  {
   "cell_type": "code",
   "execution_count": 209,
   "metadata": {},
   "outputs": [
    {
     "name": "stdout",
     "output_type": "stream",
     "text": [
      "English apps in cleaned google dataset: 9614\n",
      "\n",
      "\n",
      "English apps in apple dataset: 6183\n"
     ]
    }
   ],
   "source": [
    "english_google = []\n",
    "english_apple = []\n",
    "\n",
    "for app in cleaned_googleplay_list:\n",
    "    name = app[0]\n",
    "    if english_checker2(name) == True:\n",
    "        english_google.append(app)\n",
    "\n",
    "for app in apple_list[1:]:\n",
    "    name = app[2]\n",
    "    if english_checker2(name) == True:\n",
    "        english_apple.append(app)\n",
    "    \n",
    "print('English apps in cleaned google dataset: ' + str(len(english_google)))\n",
    "print('\\n')\n",
    "print('English apps in apple dataset: ' + str(len(english_apple)))"
   ]
  },
  {
   "cell_type": "markdown",
   "metadata": {},
   "source": [
    "Now that the data represent unique English language apps the next step is to isolate only the free apps. The google dataset price is at index 6 and the apple dataset price is at index 5."
   ]
  },
  {
   "cell_type": "code",
   "execution_count": 210,
   "metadata": {},
   "outputs": [
    {
     "name": "stdout",
     "output_type": "stream",
     "text": [
      "['App', 'Category', 'Rating', 'Reviews', 'Size', 'Installs', 'Type', 'Price', 'Content Rating', 'Genres', 'Last Updated', 'Current Ver', 'Android Ver']\n",
      "['', 'id', 'track_name', 'size_bytes', 'currency', 'price', 'rating_count_tot', 'rating_count_ver', 'user_rating', 'user_rating_ver', 'ver', 'cont_rating', 'prime_genre', 'sup_devices.num', 'ipadSc_urls.num', 'lang.num', 'vpp_lic']\n"
     ]
    }
   ],
   "source": [
    "print(googleplay_list[0])\n",
    "print(apple_list[0])"
   ]
  },
  {
   "cell_type": "code",
   "execution_count": 213,
   "metadata": {
    "scrolled": true
   },
   "outputs": [
    {
     "name": "stdout",
     "output_type": "stream",
     "text": [
      "Number of free, English apps from google: 8864\n",
      "\n",
      "\n",
      "Number of free, English apps from apple: 3222\n"
     ]
    }
   ],
   "source": [
    "free_google = []\n",
    "free_apple = []\n",
    "\n",
    "for app in english_google:\n",
    "    price = app[7]\n",
    "    \n",
    "    if price == '0':\n",
    "        free_google.append(app)\n",
    "\n",
    "\n",
    "for app in english_apple:\n",
    "    price = float(app[5])\n",
    "    \n",
    "    if price == 0:\n",
    "        free_apple.append(app)\n",
    "        \n",
    "print('Number of free, English apps from google: ' + str(len(free_google)))\n",
    "print('\\n')\n",
    "print('Number of free, English apps from apple: ' + str(len(free_apple)))\n",
    "\n",
    "        \n"
   ]
  },
  {
   "cell_type": "markdown",
   "metadata": {},
   "source": [
    "## Analysis\n",
    "\n",
    "At this stage the data is cleaned and now it is possible to look at the datasets together and determine which categories will be most important.  They should be able to be pulled from both data sets.\n",
    "\n",
    "Therefore we will be looking at the prime_genre column from the Apple store data set and the generes and Category column from the google play data set.\n",
    "\n",
    "First, a function to obtain a frequency table for the particular category we want to look at will need to be made:\n"
   ]
  },
  {
   "cell_type": "code",
   "execution_count": 223,
   "metadata": {},
   "outputs": [],
   "source": [
    "def freq_table(dataset, index):\n",
    "    table = {}\n",
    "    total = 0\n",
    "    \n",
    "    for row in dataset:\n",
    "        total += 1\n",
    "        value = row[index]\n",
    "        \n",
    "        if value in table:\n",
    "            table[value] += 1\n",
    "        else:\n",
    "            table[value] = 1\n",
    "            \n",
    "    table_percentages = {}\n",
    "    for key in table:\n",
    "        percentage = (table[key] / total) * 100\n",
    "        table_percentages[key] = percentage\n",
    "    \n",
    "    return table_percentages\n",
    "    "
   ]
  },
  {
   "cell_type": "markdown",
   "metadata": {},
   "source": [
    "Now that we have the function for generating frequency tables and returning precentages of genres we can create another function to clean up how those percentages are shown:"
   ]
  },
  {
   "cell_type": "code",
   "execution_count": 224,
   "metadata": {},
   "outputs": [],
   "source": [
    "def display_table(dataset, index):\n",
    "    table = freq_table(dataset, index)\n",
    "    table_display = []\n",
    "    for key in table:\n",
    "        key_val_as_tuple = (table[key], key)\n",
    "        table_display.append(key_val_as_tuple)\n",
    "\n",
    "    table_sorted = sorted(table_display, reverse = True)\n",
    "    for entry in table_sorted:\n",
    "        print(entry[1], ':', entry[0])"
   ]
  },
  {
   "cell_type": "markdown",
   "metadata": {},
   "source": [
    "For the google dataset, category is at index 1 and genres is at index 9.  For the apple dataset prime_genre is at index 12."
   ]
  },
  {
   "cell_type": "code",
   "execution_count": 230,
   "metadata": {},
   "outputs": [
    {
     "name": "stdout",
     "output_type": "stream",
     "text": [
      "Games : 58.16263190564867\n",
      "Entertainment : 7.883302296710118\n",
      "Photo & Video : 4.9658597144630665\n",
      "Education : 3.662321539416512\n",
      "Social Networking : 3.2898820608317814\n",
      "Shopping : 2.60707635009311\n",
      "Utilities : 2.5139664804469275\n",
      "Sports : 2.1415270018621975\n",
      "Music : 2.0484171322160147\n",
      "Health & Fitness : 2.0173805090006205\n",
      "Productivity : 1.7380509000620732\n",
      "Lifestyle : 1.5828677839851024\n",
      "News : 1.3345747982619491\n",
      "Travel : 1.2414649286157666\n",
      "Finance : 1.1173184357541899\n",
      "Weather : 0.8690254500310366\n",
      "Food & Drink : 0.8069522036002483\n",
      "Reference : 0.5586592178770949\n",
      "Business : 0.5276225946617008\n",
      "Book : 0.4345127250155183\n",
      "Navigation : 0.186219739292365\n",
      "Medical : 0.186219739292365\n",
      "Catalogs : 0.12414649286157665\n"
     ]
    }
   ],
   "source": [
    "display_table(free_apple, 12) #prime_genre"
   ]
  },
  {
   "cell_type": "markdown",
   "metadata": {},
   "source": [
    "Based on the results above it appears that games are the most common genre by a landslide.  Following that is entertainment which probably acts in a similar capacity to games in terms of occupying users in their free time.\n",
    "\n",
    "Really other than games most of the other genres are similar in frequency meaning that there is not a great amount of variety within those genres, at least not to the magnitude of games.  For instance, how many competing weather apps can there possibly be in such a niche category?\n",
    "\n",
    "This also doesn't take into account the ammount of users so while there might be more instances of games on the app store, social media apps like facebook may have way more users though their success cannot be seen through this analysis alone."
   ]
  },
  {
   "cell_type": "code",
   "execution_count": 232,
   "metadata": {},
   "outputs": [
    {
     "name": "stdout",
     "output_type": "stream",
     "text": [
      "FAMILY : 18.907942238267147\n",
      "GAME : 9.724729241877256\n",
      "TOOLS : 8.461191335740072\n",
      "BUSINESS : 4.591606498194946\n",
      "LIFESTYLE : 3.9034296028880866\n",
      "PRODUCTIVITY : 3.892148014440433\n",
      "FINANCE : 3.7003610108303246\n",
      "MEDICAL : 3.531137184115524\n",
      "SPORTS : 3.395758122743682\n",
      "PERSONALIZATION : 3.3167870036101084\n",
      "COMMUNICATION : 3.2378158844765346\n",
      "HEALTH_AND_FITNESS : 3.0798736462093865\n",
      "PHOTOGRAPHY : 2.944494584837545\n",
      "NEWS_AND_MAGAZINES : 2.7978339350180503\n",
      "SOCIAL : 2.6624548736462095\n",
      "TRAVEL_AND_LOCAL : 2.33528880866426\n",
      "SHOPPING : 2.2450361010830324\n",
      "BOOKS_AND_REFERENCE : 2.1435018050541514\n",
      "DATING : 1.861462093862816\n",
      "VIDEO_PLAYERS : 1.7937725631768955\n",
      "MAPS_AND_NAVIGATION : 1.3989169675090252\n",
      "FOOD_AND_DRINK : 1.2409747292418771\n",
      "EDUCATION : 1.1620036101083033\n",
      "ENTERTAINMENT : 0.9589350180505415\n",
      "LIBRARIES_AND_DEMO : 0.9363718411552346\n",
      "AUTO_AND_VEHICLES : 0.9250902527075812\n",
      "HOUSE_AND_HOME : 0.8235559566787004\n",
      "WEATHER : 0.8009927797833934\n",
      "EVENTS : 0.7107400722021661\n",
      "PARENTING : 0.6543321299638989\n",
      "ART_AND_DESIGN : 0.6430505415162455\n",
      "COMICS : 0.6204873646209386\n",
      "BEAUTY : 0.5979241877256317\n"
     ]
    }
   ],
   "source": [
    "display_table(free_google, 1) #category"
   ]
  },
  {
   "cell_type": "markdown",
   "metadata": {},
   "source": [
    "For the category frequencies from google play we see something very different.  Family is the most frequent category followed by games.  This might mean that games for andriods are not as popular or that they are more difficult to make than on ios.  Also, these categories are far more evenly distributed than the apple store genres."
   ]
  },
  {
   "cell_type": "code",
   "execution_count": 229,
   "metadata": {},
   "outputs": [
    {
     "name": "stdout",
     "output_type": "stream",
     "text": [
      "Tools : 8.449909747292418\n",
      "Entertainment : 6.069494584837545\n",
      "Education : 5.347472924187725\n",
      "Business : 4.591606498194946\n",
      "Productivity : 3.892148014440433\n",
      "Lifestyle : 3.892148014440433\n",
      "Finance : 3.7003610108303246\n",
      "Medical : 3.531137184115524\n",
      "Sports : 3.463447653429603\n",
      "Personalization : 3.3167870036101084\n",
      "Communication : 3.2378158844765346\n",
      "Action : 3.1024368231046933\n",
      "Health & Fitness : 3.0798736462093865\n",
      "Photography : 2.944494584837545\n",
      "News & Magazines : 2.7978339350180503\n",
      "Social : 2.6624548736462095\n",
      "Travel & Local : 2.3240072202166067\n",
      "Shopping : 2.2450361010830324\n",
      "Books & Reference : 2.1435018050541514\n",
      "Simulation : 2.0419675090252705\n",
      "Dating : 1.861462093862816\n",
      "Arcade : 1.8501805054151623\n",
      "Video Players & Editors : 1.7712093862815883\n",
      "Casual : 1.7599277978339352\n",
      "Maps & Navigation : 1.3989169675090252\n",
      "Food & Drink : 1.2409747292418771\n",
      "Puzzle : 1.128158844765343\n",
      "Racing : 0.9927797833935018\n",
      "Role Playing : 0.9363718411552346\n",
      "Libraries & Demo : 0.9363718411552346\n",
      "Auto & Vehicles : 0.9250902527075812\n",
      "Strategy : 0.9138086642599278\n",
      "House & Home : 0.8235559566787004\n",
      "Weather : 0.8009927797833934\n",
      "Events : 0.7107400722021661\n",
      "Adventure : 0.6768953068592057\n",
      "Comics : 0.6092057761732852\n",
      "Beauty : 0.5979241877256317\n",
      "Art & Design : 0.5979241877256317\n",
      "Parenting : 0.4963898916967509\n",
      "Card : 0.45126353790613716\n",
      "Casino : 0.42870036101083037\n",
      "Trivia : 0.41741877256317694\n",
      "Educational;Education : 0.39485559566787\n",
      "Board : 0.3835740072202166\n",
      "Educational : 0.3722924187725632\n",
      "Education;Education : 0.33844765342960287\n",
      "Word : 0.2594765342960289\n",
      "Casual;Pretend Play : 0.236913357400722\n",
      "Music : 0.2030685920577617\n",
      "Racing;Action & Adventure : 0.16922382671480143\n",
      "Puzzle;Brain Games : 0.16922382671480143\n",
      "Entertainment;Music & Video : 0.16922382671480143\n",
      "Casual;Brain Games : 0.13537906137184114\n",
      "Casual;Action & Adventure : 0.13537906137184114\n",
      "Arcade;Action & Adventure : 0.12409747292418773\n",
      "Action;Action & Adventure : 0.10153429602888085\n",
      "Educational;Pretend Play : 0.09025270758122744\n",
      "Simulation;Action & Adventure : 0.078971119133574\n",
      "Parenting;Education : 0.078971119133574\n",
      "Entertainment;Brain Games : 0.078971119133574\n",
      "Board;Brain Games : 0.078971119133574\n",
      "Parenting;Music & Video : 0.06768953068592057\n",
      "Educational;Brain Games : 0.06768953068592057\n",
      "Casual;Creativity : 0.06768953068592057\n",
      "Art & Design;Creativity : 0.06768953068592057\n",
      "Education;Pretend Play : 0.056407942238267145\n",
      "Role Playing;Pretend Play : 0.04512635379061372\n",
      "Education;Creativity : 0.04512635379061372\n",
      "Role Playing;Action & Adventure : 0.033844765342960284\n",
      "Puzzle;Action & Adventure : 0.033844765342960284\n",
      "Entertainment;Creativity : 0.033844765342960284\n",
      "Entertainment;Action & Adventure : 0.033844765342960284\n",
      "Educational;Creativity : 0.033844765342960284\n",
      "Educational;Action & Adventure : 0.033844765342960284\n",
      "Education;Music & Video : 0.033844765342960284\n",
      "Education;Brain Games : 0.033844765342960284\n",
      "Education;Action & Adventure : 0.033844765342960284\n",
      "Adventure;Action & Adventure : 0.033844765342960284\n",
      "Video Players & Editors;Music & Video : 0.02256317689530686\n",
      "Sports;Action & Adventure : 0.02256317689530686\n",
      "Simulation;Pretend Play : 0.02256317689530686\n",
      "Puzzle;Creativity : 0.02256317689530686\n",
      "Music;Music & Video : 0.02256317689530686\n",
      "Entertainment;Pretend Play : 0.02256317689530686\n",
      "Casual;Education : 0.02256317689530686\n",
      "Board;Action & Adventure : 0.02256317689530686\n",
      "Video Players & Editors;Creativity : 0.01128158844765343\n",
      "Trivia;Education : 0.01128158844765343\n",
      "Travel & Local;Action & Adventure : 0.01128158844765343\n",
      "Tools;Education : 0.01128158844765343\n",
      "Strategy;Education : 0.01128158844765343\n",
      "Strategy;Creativity : 0.01128158844765343\n",
      "Strategy;Action & Adventure : 0.01128158844765343\n",
      "Simulation;Education : 0.01128158844765343\n",
      "Role Playing;Brain Games : 0.01128158844765343\n",
      "Racing;Pretend Play : 0.01128158844765343\n",
      "Puzzle;Education : 0.01128158844765343\n",
      "Parenting;Brain Games : 0.01128158844765343\n",
      "Music & Audio;Music & Video : 0.01128158844765343\n",
      "Lifestyle;Pretend Play : 0.01128158844765343\n",
      "Lifestyle;Education : 0.01128158844765343\n",
      "Health & Fitness;Education : 0.01128158844765343\n",
      "Health & Fitness;Action & Adventure : 0.01128158844765343\n",
      "Entertainment;Education : 0.01128158844765343\n",
      "Communication;Creativity : 0.01128158844765343\n",
      "Comics;Creativity : 0.01128158844765343\n",
      "Casual;Music & Video : 0.01128158844765343\n",
      "Card;Action & Adventure : 0.01128158844765343\n",
      "Books & Reference;Education : 0.01128158844765343\n",
      "Art & Design;Pretend Play : 0.01128158844765343\n",
      "Art & Design;Action & Adventure : 0.01128158844765343\n",
      "Arcade;Pretend Play : 0.01128158844765343\n",
      "Adventure;Education : 0.01128158844765343\n"
     ]
    }
   ],
   "source": [
    "display_table(free_google, 9) #genre"
   ]
  },
  {
   "cell_type": "markdown",
   "metadata": {},
   "source": [
    "The genre frequencies from the google dataset divide the category of games into various subtypes such as racing.  This dataset is still far more balanced than the apple store frequencies.  This is not useful for determining which apps are the most popular since it is still lacking the number of users and ratings information.\n"
   ]
  },
  {
   "cell_type": "markdown",
   "metadata": {},
   "source": [
    "To add strength to the analysis we should focus on finding how many users there are across the categories rather than how many apps are available within those categories.\n"
   ]
  },
  {
   "cell_type": "code",
   "execution_count": 240,
   "metadata": {},
   "outputs": [
    {
     "name": "stdout",
     "output_type": "stream",
     "text": [
      "App Genre: Productivity\n",
      "Average Users: 21028.410714285714\n",
      "\n",
      "\n",
      "App Genre: Weather\n",
      "Average Users: 52279.892857142855\n",
      "\n",
      "\n",
      "App Genre: Shopping\n",
      "Average Users: 26919.690476190477\n",
      "\n",
      "\n",
      "App Genre: Reference\n",
      "Average Users: 74942.11111111111\n",
      "\n",
      "\n",
      "App Genre: Finance\n",
      "Average Users: 31467.944444444445\n",
      "\n",
      "\n",
      "App Genre: Music\n",
      "Average Users: 57326.530303030304\n",
      "\n",
      "\n",
      "App Genre: Utilities\n",
      "Average Users: 18684.456790123455\n",
      "\n",
      "\n",
      "App Genre: Travel\n",
      "Average Users: 28243.8\n",
      "\n",
      "\n",
      "App Genre: Social Networking\n",
      "Average Users: 71548.34905660378\n",
      "\n",
      "\n",
      "App Genre: Sports\n",
      "Average Users: 23008.898550724636\n",
      "\n",
      "\n",
      "App Genre: Health & Fitness\n",
      "Average Users: 23298.015384615384\n",
      "\n",
      "\n",
      "App Genre: Games\n",
      "Average Users: 22788.6696905016\n",
      "\n",
      "\n",
      "App Genre: Food & Drink\n",
      "Average Users: 33333.92307692308\n",
      "\n",
      "\n",
      "App Genre: News\n",
      "Average Users: 21248.023255813954\n",
      "\n",
      "\n",
      "App Genre: Book\n",
      "Average Users: 39758.5\n",
      "\n",
      "\n",
      "App Genre: Photo & Video\n",
      "Average Users: 28441.54375\n",
      "\n",
      "\n",
      "App Genre: Entertainment\n",
      "Average Users: 14029.830708661417\n",
      "\n",
      "\n",
      "App Genre: Business\n",
      "Average Users: 7491.117647058823\n",
      "\n",
      "\n",
      "App Genre: Lifestyle\n",
      "Average Users: 16485.764705882353\n",
      "\n",
      "\n",
      "App Genre: Education\n",
      "Average Users: 7003.983050847458\n",
      "\n",
      "\n",
      "App Genre: Navigation\n",
      "Average Users: 86090.33333333333\n",
      "\n",
      "\n",
      "App Genre: Medical\n",
      "Average Users: 612.0\n",
      "\n",
      "\n",
      "App Genre: Catalogs\n",
      "Average Users: 4004.0\n",
      "\n",
      "\n"
     ]
    }
   ],
   "source": [
    "#print(freq_table(free_apple, 12))\n",
    "\n",
    "apple_freqs = freq_table(free_apple, 12)\n",
    "\n",
    "for genre in apple_freqs:\n",
    "    total = 0    # total count of user ratings\n",
    "    len_genre = 0  # number of apps in each genre\n",
    "    \n",
    "    for app in free_apple:\n",
    "        genre_app = app[12]\n",
    "        if genre_app == genre:\n",
    "            ratings = float(app[6])\n",
    "            total += ratings\n",
    "            len_genre += 1\n",
    "        \n",
    "    avg_users = total / len_genre\n",
    "\n",
    "    print('App Genre: ' + str(genre))\n",
    "    print('Average Users: ' + str(avg_users))\n",
    "    print('\\n')\n",
    "  "
   ]
  },
  {
   "cell_type": "markdown",
   "metadata": {},
   "source": [
    "Based on this data we can see which categories actually have the most users.  It looks as if though social networking and navigation have the most users per app. This likely means that there are a few outstanding apps in these categories such as Facebook or Google Maps that are used universally.  "
   ]
  },
  {
   "cell_type": "markdown",
   "metadata": {},
   "source": [
    "For a company that is trying to decide how to invest its resources making a successful app for the **Apple Store**, it make want to take the shotgun approach when creating games but in other categories spend a long time on refining a single app that can hopefully break into niche categories with long standing popular apps such as instagram. \n",
    "\n",
    "Now to look into the user data for the google play store:\n"
   ]
  },
  {
   "cell_type": "code",
   "execution_count": 242,
   "metadata": {},
   "outputs": [
    {
     "name": "stdout",
     "output_type": "stream",
     "text": [
      "1,000,000+ : 15.726534296028879\n",
      "100,000+ : 11.552346570397113\n",
      "10,000,000+ : 10.548285198555957\n",
      "10,000+ : 10.198555956678701\n",
      "1,000+ : 8.393501805054152\n",
      "100+ : 6.915613718411552\n",
      "5,000,000+ : 6.825361010830325\n",
      "500,000+ : 5.561823104693141\n",
      "50,000+ : 4.7721119133574\n",
      "5,000+ : 4.512635379061372\n",
      "10+ : 3.5424187725631766\n",
      "500+ : 3.2490974729241873\n",
      "50,000,000+ : 2.3014440433213\n",
      "100,000,000+ : 2.1322202166064983\n",
      "50+ : 1.917870036101083\n",
      "5+ : 0.78971119133574\n",
      "1+ : 0.5076714801444043\n",
      "500,000,000+ : 0.2707581227436823\n",
      "1,000,000,000+ : 0.22563176895306858\n",
      "0+ : 0.04512635379061372\n",
      "0 : 0.01128158844765343\n"
     ]
    }
   ],
   "source": [
    "display_table(free_google, 5) #installs"
   ]
  },
  {
   "cell_type": "markdown",
   "metadata": {},
   "source": [
    "This generalized data will be fine for this analysis but the extra '+' and ',' characters will need to be removed to convert the values to floats for further calculations."
   ]
  },
  {
   "cell_type": "code",
   "execution_count": 245,
   "metadata": {},
   "outputs": [
    {
     "name": "stdout",
     "output_type": "stream",
     "text": [
      "App Genre: ART_AND_DESIGN\n",
      "Average Number of Installs: 1986335.0877192982\n",
      "\n",
      "\n",
      "App Genre: AUTO_AND_VEHICLES\n",
      "Average Number of Installs: 647317.8170731707\n",
      "\n",
      "\n",
      "App Genre: BEAUTY\n",
      "Average Number of Installs: 513151.88679245283\n",
      "\n",
      "\n",
      "App Genre: BOOKS_AND_REFERENCE\n",
      "Average Number of Installs: 8767811.894736841\n",
      "\n",
      "\n",
      "App Genre: BUSINESS\n",
      "Average Number of Installs: 1712290.1474201474\n",
      "\n",
      "\n",
      "App Genre: COMICS\n",
      "Average Number of Installs: 817657.2727272727\n",
      "\n",
      "\n",
      "App Genre: COMMUNICATION\n",
      "Average Number of Installs: 38456119.167247385\n",
      "\n",
      "\n",
      "App Genre: DATING\n",
      "Average Number of Installs: 854028.8303030303\n",
      "\n",
      "\n",
      "App Genre: EDUCATION\n",
      "Average Number of Installs: 1833495.145631068\n",
      "\n",
      "\n",
      "App Genre: ENTERTAINMENT\n",
      "Average Number of Installs: 11640705.88235294\n",
      "\n",
      "\n",
      "App Genre: EVENTS\n",
      "Average Number of Installs: 253542.22222222222\n",
      "\n",
      "\n",
      "App Genre: FINANCE\n",
      "Average Number of Installs: 1387692.475609756\n",
      "\n",
      "\n",
      "App Genre: FOOD_AND_DRINK\n",
      "Average Number of Installs: 1924897.7363636363\n",
      "\n",
      "\n",
      "App Genre: HEALTH_AND_FITNESS\n",
      "Average Number of Installs: 4188821.9853479853\n",
      "\n",
      "\n",
      "App Genre: HOUSE_AND_HOME\n",
      "Average Number of Installs: 1331540.5616438356\n",
      "\n",
      "\n",
      "App Genre: LIBRARIES_AND_DEMO\n",
      "Average Number of Installs: 638503.734939759\n",
      "\n",
      "\n",
      "App Genre: LIFESTYLE\n",
      "Average Number of Installs: 1437816.2687861272\n",
      "\n",
      "\n",
      "App Genre: GAME\n",
      "Average Number of Installs: 15588015.603248259\n",
      "\n",
      "\n",
      "App Genre: FAMILY\n",
      "Average Number of Installs: 3695641.8198090694\n",
      "\n",
      "\n",
      "App Genre: MEDICAL\n",
      "Average Number of Installs: 120550.61980830671\n",
      "\n",
      "\n",
      "App Genre: SOCIAL\n",
      "Average Number of Installs: 23253652.127118643\n",
      "\n",
      "\n",
      "App Genre: SHOPPING\n",
      "Average Number of Installs: 7036877.311557789\n",
      "\n",
      "\n",
      "App Genre: PHOTOGRAPHY\n",
      "Average Number of Installs: 17840110.40229885\n",
      "\n",
      "\n",
      "App Genre: SPORTS\n",
      "Average Number of Installs: 3638640.1428571427\n",
      "\n",
      "\n",
      "App Genre: TRAVEL_AND_LOCAL\n",
      "Average Number of Installs: 13984077.710144928\n",
      "\n",
      "\n",
      "App Genre: TOOLS\n",
      "Average Number of Installs: 10801391.298666667\n",
      "\n",
      "\n",
      "App Genre: PERSONALIZATION\n",
      "Average Number of Installs: 5201482.6122448975\n",
      "\n",
      "\n",
      "App Genre: PRODUCTIVITY\n",
      "Average Number of Installs: 16787331.344927534\n",
      "\n",
      "\n",
      "App Genre: PARENTING\n",
      "Average Number of Installs: 542603.6206896552\n",
      "\n",
      "\n",
      "App Genre: WEATHER\n",
      "Average Number of Installs: 5074486.197183099\n",
      "\n",
      "\n",
      "App Genre: VIDEO_PLAYERS\n",
      "Average Number of Installs: 24727872.452830188\n",
      "\n",
      "\n",
      "App Genre: NEWS_AND_MAGAZINES\n",
      "Average Number of Installs: 9549178.467741935\n",
      "\n",
      "\n",
      "App Genre: MAPS_AND_NAVIGATION\n",
      "Average Number of Installs: 4056941.7741935486\n",
      "\n",
      "\n"
     ]
    }
   ],
   "source": [
    "google_freqs = freq_table(free_google, 1) #category\n",
    "\n",
    "for category in google_freqs:\n",
    "    total = 0  #total installs per category\n",
    "    len_category = 0 #total apps in each category\n",
    "    \n",
    "    for app in free_google:\n",
    "        category_app = app[1]\n",
    "        if category_app == category:\n",
    "            installs = app[5]\n",
    "            installs = installs.replace('+', '')\n",
    "            installs = float(installs.replace(',', ''))\n",
    "            total += installs\n",
    "            len_category += 1\n",
    "            \n",
    "    avg_installs = total / len_category\n",
    "    \n",
    "    print('App Genre: ' + str(category))\n",
    "    print('Average Number of Installs: ' + str(avg_installs))\n",
    "    print('\\n')\n",
    "    \n"
   ]
  },
  {
   "cell_type": "markdown",
   "metadata": {},
   "source": [
    "From these results we see that communication has the most number of installs by a large margin.  This is likely due to messaging apps or even ones that come preinstalled on phones.  Social is the next largest and again is likely due to giants like Facebook and LinkedIn.    "
   ]
  },
  {
   "cell_type": "markdown",
   "metadata": {},
   "source": [
    "Synthesizing both data from both the apple store and google play store allows for a more complete picture of what apps may be successful across both platforms.  \n",
    "\n",
    "Though at first games may have seem like the most viable option, they are not as popular on the google play store.  This analysis would be prudent to include at least some sort of social media/communication aspect to whichever type of app that is being built so individuals have means of spreading information about the app and reason to continue checking/using the app.  \n",
    "\n",
    "Maps and navigation has many users/installs but is likely a difficult category to break into.  Maybe coming up with novel ideas to break into this space that include social media on some sort of flexible platform that allows for vidoes/pictures:\n",
    "\n",
    "- update your friends live everyone 100 miles on your journey with a short video\n",
    "- maybe a background app that profiles your driving by checking your speed, length of drives, and locations visited\n",
    "- maybe app that is a front facing GPS but acts a dash cam storing the most recent 5-10 minutes of driving (could be used for legal purposes or a platform to share unique dash cam events)"
   ]
  }
 ],
 "metadata": {
  "kernelspec": {
   "display_name": "Python 3",
   "language": "python",
   "name": "python3"
  },
  "language_info": {
   "codemirror_mode": {
    "name": "ipython",
    "version": 3
   },
   "file_extension": ".py",
   "mimetype": "text/x-python",
   "name": "python",
   "nbconvert_exporter": "python",
   "pygments_lexer": "ipython3",
   "version": "3.7.4"
  }
 },
 "nbformat": 4,
 "nbformat_minor": 2
}
